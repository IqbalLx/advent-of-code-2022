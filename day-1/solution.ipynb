{
 "cells": [
  {
   "cell_type": "code",
   "execution_count": 5,
   "metadata": {},
   "outputs": [],
   "source": [
    "import requests\n",
    "import dotenv\n",
    "import os"
   ]
  },
  {
   "cell_type": "code",
   "execution_count": 6,
   "metadata": {},
   "outputs": [
    {
     "data": {
      "text/plain": [
       "True"
      ]
     },
     "execution_count": 6,
     "metadata": {},
     "output_type": "execute_result"
    }
   ],
   "source": [
    "dotenv.load_dotenv('.env')"
   ]
  },
  {
   "cell_type": "code",
   "execution_count": null,
   "metadata": {},
   "outputs": [],
   "source": [
    "res = requests.get(\"https://adventofcode.com/2022/day/1/input\", cookies={\n",
    "    \"session\": os.environ.get('COOKIES')\n",
    "})"
   ]
  },
  {
   "cell_type": "code",
   "execution_count": 17,
   "metadata": {},
   "outputs": [
    {
     "name": "stdout",
     "output_type": "stream",
     "text": [
      "['4087\\n5317\\n6045\\n4977\\n3043\\n6360\\n3730\\n2012\\n4994\\n7160\\n6253\\n', '3298\\n1198\\n2238\\n4091\\n6469\\n3444\\n2982\\n4702\\n3283\\n3008\\n1585\\n2615\\n5732\\n1548', '8688\\n5261\\n14869\\n7408\\n1789', '5760\\n4313\\n4368\\n3987\\n6289\\n3042\\n6007\\n5799\\n4406\\n4309\\n5816\\n5109\\n1109\\n2257', '15216\\n5215\\n11727', '10054\\n5070\\n16403\\n5567\\n16260', '4756\\n6015\\n4766\\n5722\\n4379\\n3490\\n5431\\n1526\\n1948\\n5237\\n5531\\n5395\\n4601\\n5844\\n4016', '2418\\n4557\\n4607\\n5361\\n3364\\n2998\\n1216\\n5563\\n4864\\n5017\\n4026\\n3729\\n4164\\n5482\\n1893', '6796\\n1284\\n4977\\n5446\\n3087\\n6057\\n5189\\n5946\\n3621\\n1966\\n2078\\n1367', '3734\\n1477\\n13557\\n11678\\n9239\\n3743', '7759\\n5334\\n4561\\n2429\\n15468', '16801\\n1179\\n10958\\n13260', '7153\\n9689\\n11330', '5080\\n6563\\n5357\\n4338\\n1616\\n10436\\n3433', '4562\\n1583\\n2616\\n5800\\n6350\\n3762\\n6491\\n1047\\n3559\\n1388\\n4772\\n6413\\n3066', '40358', '5091\\n5021\\n1578\\n1839\\n2447\\n1410\\n1551\\n1273\\n2870\\n2060\\n6062\\n4994\\n4425\\n1142\\n2121', '5229\\n1697\\n7613\\n1254\\n3850\\n3959\\n3011\\n8327\\n1583\\n5689', '6328\\n8513\\n10986\\n8497\\n3620', '1428\\n16323\\n9092\\n17680', '2479\\n1227\\n1920\\n1652\\n7127\\n5330\\n5773\\n7980\\n5979\\n1327\\n6926', '1196\\n3789\\n9127\\n15026\\n10039', '12946\\n25227\\n10688', '8884\\n11521\\n3912\\n2993\\n13471']\n"
     ]
    }
   ],
   "source": [
    "inputs = res.content.decode().split('\\n\\n')\n",
    "print(inputs[::-10])"
   ]
  },
  {
   "cell_type": "code",
   "execution_count": 19,
   "metadata": {},
   "outputs": [],
   "source": [
    "max_elf_carried = 0\n",
    "for each_elf_carried in inputs:\n",
    "    if each_elf_carried.endswith(\"\\n\"):\n",
    "        each_elf_carried = each_elf_carried[:-1]\n",
    "\n",
    "    total = sum([int(x) for x in each_elf_carried.split('\\n')])\n",
    "    if total > max_elf_carried:\n",
    "        max_elf_carried = total"
   ]
  },
  {
   "cell_type": "code",
   "execution_count": 20,
   "metadata": {},
   "outputs": [
    {
     "name": "stdout",
     "output_type": "stream",
     "text": [
      "69626\n"
     ]
    }
   ],
   "source": [
    "print(max_elf_carried)"
   ]
  },
  {
   "cell_type": "code",
   "execution_count": 22,
   "metadata": {},
   "outputs": [],
   "source": [
    "totals = []\n",
    "for each_elf_carried in inputs:\n",
    "    if each_elf_carried.endswith(\"\\n\"):\n",
    "        each_elf_carried = each_elf_carried[:-1]\n",
    "\n",
    "    total = sum([int(x) for x in each_elf_carried.split('\\n')])\n",
    "    totals.append(total)\n",
    "\n",
    "totals.sort(reverse=True)"
   ]
  },
  {
   "cell_type": "code",
   "execution_count": 24,
   "metadata": {},
   "outputs": [
    {
     "data": {
      "text/plain": [
       "206780"
      ]
     },
     "execution_count": 24,
     "metadata": {},
     "output_type": "execute_result"
    }
   ],
   "source": [
    "sum(totals[:3])"
   ]
  },
  {
   "cell_type": "code",
   "execution_count": null,
   "metadata": {},
   "outputs": [],
   "source": []
  }
 ],
 "metadata": {
  "kernelspec": {
   "display_name": "Python 3.9.13 64-bit",
   "language": "python",
   "name": "python3"
  },
  "language_info": {
   "codemirror_mode": {
    "name": "ipython",
    "version": 3
   },
   "file_extension": ".py",
   "mimetype": "text/x-python",
   "name": "python",
   "nbconvert_exporter": "python",
   "pygments_lexer": "ipython3",
   "version": "3.9.13"
  },
  "orig_nbformat": 4,
  "vscode": {
   "interpreter": {
    "hash": "ac2eaa0ea0ebeafcc7822e65e46aa9d4f966f30b695406963e145ea4a91cd4fc"
   }
  }
 },
 "nbformat": 4,
 "nbformat_minor": 2
}
